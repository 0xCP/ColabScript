{
  "nbformat": 4,
  "nbformat_minor": 0,
  "metadata": {
    "colab": {
      "name": "Download.ipynb",
      "provenance": [],
      "collapsed_sections": [
        "__2ppVv38xos",
        "_2zWuSSpBxGL",
        "XF9PlswteWg1",
        "b5475y3_YRZr",
        "Z_fhu_5AMs10"
      ],
      "toc_visible": true
    },
    "kernelspec": {
      "name": "python3",
      "display_name": "Python 3"
    }
  },
  "cells": [
    {
      "cell_type": "markdown",
      "metadata": {
        "id": "__2ppVv38xos",
        "colab_type": "text"
      },
      "source": [
        "# 利用Google Colab下载文件到谷歌云端硬盘\n",
        "\n",
        "\n"
      ]
    },
    {
      "cell_type": "markdown",
      "metadata": {
        "id": "28dy9rTbA7fj",
        "colab_type": "text"
      },
      "source": [
        "**什么是Google Colab?**\n",
        "+ Colaboratory 是一个 Google 研究项目，旨在帮助传播机器学习培训和研究成果。它是一个 Jupyter 笔记本环境，不需要进行任何设置就可以使用，并且完全在云端运行。\n",
        "+ Colaboratory 笔记本存储在 Google 云端硬盘中，并且可以共享，就如同您使用 Google 文档或表格一样。Colaboratory 可免费使用。\n",
        "+ 利用Colaboratory ，可以方便的使用Keras,TensorFlow,PyTorch,OpenCV等框架进行深度学习应用的开发。"
      ]
    },
    {
      "cell_type": "markdown",
      "metadata": {
        "id": "_2zWuSSpBxGL",
        "colab_type": "text"
      },
      "source": [
        "# 准备及说明\n"
      ]
    },
    {
      "cell_type": "code",
      "metadata": {
        "id": "zdXwfrHucuJ9",
        "colab_type": "code",
        "cellView": "form",
        "colab": {}
      },
      "source": [
        "#@title 第一步，运行以挂载谷歌云端硬盘\n",
        "from google.colab import drive\n",
        "drive.mount('/content/drive')"
      ],
      "execution_count": 0,
      "outputs": []
    },
    {
      "cell_type": "markdown",
      "metadata": {
        "id": "gHONsfFBCSOG",
        "colab_type": "text"
      },
      "source": [
        "只支持直链或种子下载，请获得直链或种子后再使用\n",
        "\n",
        "使用了最简单的wget与aria2指令进行直链下载，大佬勿喷\n",
        "\n",
        "种子下载部分源码在[Github](https://github.com/r12habh/Torrent-To-Google-Drive-Downloader-v2)获得，只是做了整合，后又发现aria2也可实现种子下载功能，已添加\n",
        "\n",
        "如需下载文件到OneDrive，请自行使用rclone挂载，以后也许会更新\n",
        "\n"
      ]
    },
    {
      "cell_type": "markdown",
      "metadata": {
        "id": "8YpSM7gyPDvB",
        "colab_type": "text"
      },
      "source": [
        "**挂载谷歌云端硬盘时，由于bug存在，无法写入根目录。如需往盘内下载文件或移动文件至子目录，请先在盘内新建子目录，下载时填写子目录**"
      ]
    },
    {
      "cell_type": "markdown",
      "metadata": {
        "id": "XF9PlswteWg1",
        "colab_type": "text"
      },
      "source": [
        "# 直链下载"
      ]
    },
    {
      "cell_type": "code",
      "metadata": {
        "id": "KuDJy5Msc0Rl",
        "colab_type": "code",
        "cellView": "form",
        "colab": {}
      },
      "source": [
        "#@title 1.下载单文件\n",
        "#@markdown <p>输入直链及下载位置</p>\n",
        "#@markdown <p>默认位置为/content</p>\n",
        "links = \"\" #@param {type:\"string\"}\n",
        "savepath = \"/content\" #@param {type:\"string\"}\n",
        "!wget -c \"$links\" -P \"$savepath\""
      ],
      "execution_count": 0,
      "outputs": []
    },
    {
      "cell_type": "code",
      "metadata": {
        "id": "vQLU3s7ZPLH7",
        "colab_type": "code",
        "cellView": "form",
        "colab": {}
      },
      "source": [
        "#@title 2.批量下载(wget)\n",
        "#@markdown <p>输入下载位置</p>\n",
        "#@markdown <p>在左侧新建文件\"filelist.txt\",双击输入直链，一行一个</p>\n",
        "savepath = \"/content\" #@param {type:\"string\"}\n",
        "!wget -i filelist.txt -P \"$savepath\""
      ],
      "execution_count": 0,
      "outputs": []
    },
    {
      "cell_type": "code",
      "metadata": {
        "colab_type": "code",
        "cellView": "form",
        "id": "mRZhbWQ28qiq",
        "colab": {}
      },
      "source": [
        "#@title 2.批量下载(aria2)\n",
        "#@markdown <p>输入下载文件保存位置</p>\n",
        "#@markdown <p>在左侧新建文件\"filelist.txt\",双击输入直链，一行一个</p>\n",
        "保存位置 = \"/content\" #@param {type:\"string\"}\n",
        "线程数 = \"5\" #@param {type:\"string\"}\n",
        "同时下载文件数 = \"50\" #@param {type:\"string\"}\n",
        "!sudo apt-get install aria2\n",
        "!aria2c -c -x\"$线程数\" -j\"$同时下载文件数\" -ifilelist.txt -d\"$保存位置\""
      ],
      "execution_count": 0,
      "outputs": []
    },
    {
      "cell_type": "markdown",
      "metadata": {
        "id": "b5475y3_YRZr",
        "colab_type": "text"
      },
      "source": [
        "# 种子下载"
      ]
    },
    {
      "cell_type": "code",
      "metadata": {
        "id": "9EWloe6QYXFF",
        "colab_type": "code",
        "cellView": "form",
        "colab": {}
      },
      "source": [
        "#@title 1.安装aria2与libtorrent\n",
        "!sudo apt-get install aria2\n",
        "!apt install python3-libtorrent\n",
        "\n",
        "import libtorrent as lt\n",
        "\n",
        "ses = lt.session()\n",
        "ses.listen_on(6881, 6891)\n",
        "downloads = []"
      ],
      "execution_count": 0,
      "outputs": []
    },
    {
      "cell_type": "code",
      "metadata": {
        "id": "cKiaJQ3zYmnE",
        "colab_type": "code",
        "cellView": "form",
        "colab": {}
      },
      "source": [
        "#@title 2.1使用种子文件\n",
        "#@markdown <p>点击运行后上传种子文件(可传多个）并输入下载路径</p>\n",
        "#@markdown <p>路径默认输/content</p>\n",
        "from google.colab import files\n",
        "source = files.upload()\n",
        "params = {\n",
        "    \"save_path\": input(\"输入下载路径：\"),\n",
        "    \"ti\": lt.torrent_info(list(source.keys())[0]),\n",
        "}\n",
        "downloads.append(ses.add_torrent(params))"
      ],
      "execution_count": 0,
      "outputs": []
    },
    {
      "cell_type": "code",
      "metadata": {
        "id": "0DHjZRdtZ1XY",
        "colab_type": "code",
        "cellView": "form",
        "colab": {}
      },
      "source": [
        "#@title 2.2使用磁力链接\n",
        "#@markdown <p>点击运行后输入下载路径与磁力链接</p>\n",
        "#@markdown <p>路径默认输/content</p>\n",
        "params = {\"save_path\": input(\"输入下载路径\")}\n",
        "\n",
        "while True:\n",
        "    magnet_link = input(\"输入磁力链接或者输入Exit: \")\n",
        "    if magnet_link.lower() == \"exit\":\n",
        "        break\n",
        "    downloads.append(\n",
        "        lt.add_magnet_uri(ses, magnet_link, params)\n",
        "    )"
      ],
      "execution_count": 0,
      "outputs": []
    },
    {
      "cell_type": "code",
      "metadata": {
        "id": "Hib-gkV2dpd-",
        "colab_type": "code",
        "cellView": "form",
        "colab": {}
      },
      "source": [
        "#@title 3.1使用libtorrent下载\n",
        "import time\n",
        "from IPython.display import display\n",
        "import ipywidgets as widgets\n",
        "\n",
        "state_str = [\n",
        "    \"queued\",\n",
        "    \"checking\",\n",
        "    \"downloading metadata\",\n",
        "    \"downloading\",\n",
        "    \"finished\",\n",
        "    \"seeding\",\n",
        "    \"allocating\",\n",
        "    \"checking fastresume\",\n",
        "]\n",
        "\n",
        "layout = widgets.Layout(width=\"auto\")\n",
        "style = {\"description_width\": \"initial\"}\n",
        "download_bars = [\n",
        "    widgets.FloatSlider(\n",
        "        step=0.01, disabled=True, layout=layout, style=style\n",
        "    )\n",
        "    for _ in downloads\n",
        "]\n",
        "display(*download_bars)\n",
        "\n",
        "while downloads:\n",
        "    next_shift = 0\n",
        "    for index, download in enumerate(downloads[:]):\n",
        "        bar = download_bars[index + next_shift]\n",
        "        if not download.is_seed():\n",
        "            s = download.status()\n",
        "\n",
        "            bar.description = \" \".join(\n",
        "                [\n",
        "                    download.name(),\n",
        "                    str(s.download_rate / 1000),\n",
        "                    \"kB/s\",\n",
        "                    state_str[s.state],\n",
        "                ]\n",
        "            )\n",
        "            bar.value = s.progress * 100\n",
        "        else:\n",
        "            next_shift -= 1\n",
        "            ses.remove_torrent(download)\n",
        "            downloads.remove(download)\n",
        "            bar.close() # Seems to be not working in Colab (see https://github.com/googlecolab/colabtools/issues/726#issue-486731758)\n",
        "            download_bars.remove(bar)\n",
        "            print(download.name(), \"complete\")\n",
        "    time.sleep(1)"
      ],
      "execution_count": 0,
      "outputs": []
    },
    {
      "cell_type": "code",
      "metadata": {
        "id": "29Y2nX2RTGoW",
        "colab_type": "code",
        "cellView": "form",
        "colab": {}
      },
      "source": [
        "#@title 3.2使用aria2下载\n",
        "#@markdown <p>种子可以是磁力链接也可以是种子文件</p>\n",
        "#@markdown <p>种子文件先在2.1上传，然后在左侧复制文件路径填入</p>\n",
        "种子 = \"magnet:?xt=urn:btih:B6C323FCAE96F3AF40AE695662717A6BB9BE665F\" #@param {type:\"string\"}\n",
        "保存位置 = \"/content\" #@param {type:\"string\"}\n",
        "!aria2c -c \"$种子\" -d\"$保存位置\""
      ],
      "execution_count": 0,
      "outputs": []
    },
    {
      "cell_type": "markdown",
      "metadata": {
        "id": "Z_fhu_5AMs10",
        "colab_type": "text"
      },
      "source": [
        "# 压缩与解压"
      ]
    },
    {
      "cell_type": "code",
      "metadata": {
        "id": "2F4PbNdPGjzZ",
        "colab_type": "code",
        "cellView": "form",
        "colab": {}
      },
      "source": [
        "#@markdown <p>输入压缩包文件名与解压目录</p>\n",
        "#@markdown <p>使用7z解压缩</p>\n",
        "filename = \"/content/test.zip\" #@param {type:\"string\"}\n",
        "pathto = \"/content\" #@param {type:\"string\"}\n",
        "!7z  x \"$filename\" -o/\"$pathto\""
      ],
      "execution_count": 0,
      "outputs": []
    },
    {
      "cell_type": "code",
      "metadata": {
        "id": "ajK2OacZymHu",
        "colab_type": "code",
        "cellView": "form",
        "colab": {}
      },
      "source": [
        "#@markdown <p>输入压缩包密码和文件名和解压目录</p>\n",
        "#@markdown <p>使用7z解压缩</p>\n",
        "password = \"\" #@param {type:\"string\"}\n",
        "filename = \"filename.zip\" #@param {type:\"string\"}\n",
        "pathto = \"/content\" #@param {type:\"string\"}\n",
        "!7z  x  -p\"$password\" \"$filename\" -o/\"$pathto\""
      ],
      "execution_count": 0,
      "outputs": []
    },
    {
      "cell_type": "code",
      "metadata": {
        "id": "0df5oD1cCv-1",
        "colab_type": "code",
        "cellView": "form",
        "colab": {}
      },
      "source": [
        "#@markdown <p>输入要压缩的文件/文件夹路径、保存的压缩包名称和压缩包位置</p>\n",
        "#@markdown <p>使用7z压缩</p>\n",
        "path = \"/content/test.txt\" #@param {type:\"string\"}\n",
        "filename = \"yasuo.zip\" #@param {type:\"string\"}\n",
        "pathto = \"/content\" #@param {type:\"string\"}\n",
        "!7z a -tzip -r \"$filename\" \"$path\" -o/\"$pathto\""
      ],
      "execution_count": 0,
      "outputs": []
    }
  ]
}